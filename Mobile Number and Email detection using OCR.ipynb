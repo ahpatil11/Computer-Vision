{
 "cells": [
  {
   "cell_type": "code",
   "execution_count": 12,
   "metadata": {},
   "outputs": [
    {
     "name": "stdout",
     "output_type": "stream",
     "text": [
      "9415284836\n",
      "rggoswamiadv@rediffmail.com\n"
     ]
    }
   ],
   "source": [
    "from PIL import Image\n",
    "import pytesseract\n",
    "email = []\n",
    "img = Image.open('business1.jpg')\n",
    "email.append(pytesseract.image_to_string(img))\n",
    "\n",
    "mobile_regex = re.compile(r'''((\\+91|0)?(\\s|-|\\.)?(\\d{5})(\\s|-|\\.)?(\\d{5}))''', re.VERBOSE)\n",
    "\n",
    "text = str('\\n'.join(email))\n",
    "\n",
    "mobile = []\n",
    "mobile_num = ''\n",
    "for groups in mobile_regex.findall(text):\n",
    "   mobile_num = ''.join([groups[0]])\n",
    "   mobile.append(mobile_num)\n",
    "print(''.join(mobile))\n",
    "email = re.findall('\\w+@\\S+', text)\n",
    "print(''.join(email))"
   ]
  },
  {
   "cell_type": "code",
   "execution_count": 13,
   "metadata": {},
   "outputs": [
    {
     "name": "stdout",
     "output_type": "stream",
     "text": [
      "ready!\n"
     ]
    }
   ],
   "source": [
    "with open('output.txt', mode ='w') as file:\n",
    " file.write(''.join(mobile))\n",
    " file.write('\\n')\n",
    " file.write(''.join(email))\n",
    " print('ready!')"
   ]
  },
  {
   "cell_type": "code",
   "execution_count": null,
   "metadata": {},
   "outputs": [],
   "source": []
  }
 ],
 "metadata": {
  "kernelspec": {
   "display_name": "Python 3",
   "language": "python",
   "name": "python3"
  },
  "language_info": {
   "codemirror_mode": {
    "name": "ipython",
    "version": 3
   },
   "file_extension": ".py",
   "mimetype": "text/x-python",
   "name": "python",
   "nbconvert_exporter": "python",
   "pygments_lexer": "ipython3",
   "version": "3.7.3"
  }
 },
 "nbformat": 4,
 "nbformat_minor": 2
}
